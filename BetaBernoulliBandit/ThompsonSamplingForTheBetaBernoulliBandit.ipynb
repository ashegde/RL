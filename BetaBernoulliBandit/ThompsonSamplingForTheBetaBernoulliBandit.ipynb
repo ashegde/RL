{
 "cells": [
  {
   "cell_type": "code",
   "execution_count": 1,
   "id": "1d895a38",
   "metadata": {},
   "outputs": [],
   "source": [
    "import numpy as np\n",
    "import matplotlib.pyplot as plt\n",
    "%matplotlib inline\n",
    "from tqdm import tqdm"
   ]
  },
  {
   "cell_type": "markdown",
   "id": "9c0ea604",
   "metadata": {},
   "source": [
    "# Beta Bernoulli Bandit\n",
    "In this notebook, we implement Thompson Sampling for the Beta Bernoulli bandit problem. The reference is chapter 3 of \n",
    "___Russo, Daniel J., et al. \"A tutorial on thompson sampling.\" Foundations and Trends® in Machine Learning 11.1 (2018): 1-96.__"
   ]
  },
  {
   "cell_type": "code",
   "execution_count": 2,
   "id": "c00b45fd",
   "metadata": {},
   "outputs": [],
   "source": [
    "class Environment:\n",
    "    \"\"\"\n",
    "    The Environment/reward process follows a Bernoulli probability model.\n",
    "    \"\"\"\n",
    "    def __init__(self, p_reward):\n",
    "        self.p_reward = p_reward\n",
    "        \n",
    "    def reward(self, input_action):\n",
    "        # Bernoulli reward model\n",
    "        tmp = np.random.rand()\n",
    "        if tmp <= self.p_reward[input_action]:\n",
    "            output_reward = 1\n",
    "        else:\n",
    "            output_reward = 0\n",
    "        return output_reward"
   ]
  },
  {
   "cell_type": "code",
   "execution_count": 3,
   "id": "f0cf7cf7",
   "metadata": {},
   "outputs": [],
   "source": [
    "class Agent:\n",
    "    def __init__(self, alpha_init, beta_init, strategy):\n",
    "        \"\"\"\n",
    "        The Agent maintains an internal model of the Environment/reward process \n",
    "        which is updated based on a history of interaction. Here the model is of the conjugate Bayes form with:\n",
    "        \n",
    "        Prior on reward probabilities: Beta(alpha,beta)\n",
    "        Likelihood of reward: Bernoulli\n",
    "        Posterior: Beta(alpha',beta')\n",
    "        \"\"\"\n",
    "        self.alpha_init = alpha_init\n",
    "        self.beta_init = beta_init\n",
    "        \n",
    "        self.alpha = alpha_init\n",
    "        self.beta = beta_init\n",
    "        \n",
    "        self.strategy = strategy\n",
    "        \n",
    "    def action(self):\n",
    "        action = 0\n",
    "        if self.strategy.lower() == 'greedy': #greedy action\n",
    "            expected_reward_probability = self.alpha / (self.alpha + self.beta)\n",
    "            #action = np.argmax(expected_reward_probability)\n",
    "            #include random tie breaking\n",
    "            action = np.random.choice(np.flatnonzero(expected_reward_probability == expected_reward_probability.max()))\n",
    "            \n",
    "        elif self.strategy.lower() == 'ts':\n",
    "            sampled_reward_probability = np.random.beta(self.alpha, self.beta, 3)\n",
    "            #action = np.argmax(sampled_reward_probability)\n",
    "            #include random tie breaking\n",
    "            action = np.random.choice(np.flatnonzero(sampled_reward_probability == sampled_reward_probability.max()))\n",
    "\n",
    "        return action\n",
    "        \n",
    "    def update(self, input_action, output_reward):\n",
    "        self.alpha[input_action] = self.alpha[input_action] + output_reward \n",
    "        self.beta[input_action] = self.beta[input_action] + 1 - output_reward \n",
    "    \n",
    "    def reset(self):\n",
    "        self.alpha = self.alpha_init.copy()\n",
    "        self.beta = self.beta_init.copy()\n",
    "        \n",
    "        \n",
    "    "
   ]
  },
  {
   "cell_type": "markdown",
   "id": "24c05cd9",
   "metadata": {},
   "source": [
    "Next, we implement the three-armed beta Bernoulli bandit example from the above reference. "
   ]
  },
  {
   "cell_type": "code",
   "execution_count": 4,
   "id": "46e065f6",
   "metadata": {},
   "outputs": [],
   "source": [
    "# initialize environment\n",
    "num_actions = 3\n",
    "true_reward_probs = [0.9, 0.8, 0.7]\n",
    "env = Environment(true_reward_probs)"
   ]
  },
  {
   "cell_type": "code",
   "execution_count": 5,
   "id": "d5aa1a73",
   "metadata": {},
   "outputs": [
    {
     "name": "stderr",
     "output_type": "stream",
     "text": [
      "100%|████████████████████████████████████████████████████████████████████████████| 10000/10000 [05:46<00:00, 28.83it/s]\n"
     ]
    }
   ],
   "source": [
    "# simulate the Thompson Sampling agent\n",
    "nsim = 10000 # number of simulations / trials\n",
    "T = 1000  # duration of each simulation\n",
    "\n",
    "#for each action: uniform prior on the mean reward probability\n",
    "alpha0 = np.ones((num_actions,))\n",
    "beta0 = np.ones((num_actions,))\n",
    "ts_agent = Agent(alpha0, beta0,'TS')\n",
    "\n",
    "ts_action_count = np.zeros((T, num_actions))\n",
    "\n",
    "for n in tqdm(range(nsim)):\n",
    "    ts_agent.reset()\n",
    "    \n",
    "    for t in range(T):\n",
    "        act = ts_agent.action()\n",
    "        ts_action_count[t,act] = ts_action_count[t,act]+1 \n",
    "        rwd = env.reward(act)\n",
    "        ts_agent.update(act,rwd)"
   ]
  },
  {
   "cell_type": "code",
   "execution_count": 6,
   "id": "5020d7f5",
   "metadata": {},
   "outputs": [
    {
     "name": "stderr",
     "output_type": "stream",
     "text": [
      "100%|████████████████████████████████████████████████████████████████████████████| 10000/10000 [03:32<00:00, 47.16it/s]\n"
     ]
    }
   ],
   "source": [
    "# simulate the greedy agent\n",
    "#for each action: uniform prior on the mean reward probability\n",
    "alpha0 = np.ones((num_actions,))\n",
    "beta0 = np.ones((num_actions,))\n",
    "greedy_agent = Agent(alpha0, beta0,'greedy')\n",
    "\n",
    "greedy_action_count = np.zeros((T, num_actions))\n",
    "\n",
    "for n in tqdm(range(nsim)):\n",
    "    greedy_agent.reset()\n",
    "    \n",
    "    for t in range(T):\n",
    "        act = greedy_agent.action()\n",
    "        greedy_action_count[t,act] = greedy_action_count[t,act]+1 \n",
    "        rwd = env.reward(act)\n",
    "        greedy_agent.update(act,rwd)"
   ]
  },
  {
   "cell_type": "code",
   "execution_count": 10,
   "id": "375ac2d2",
   "metadata": {},
   "outputs": [
    {
     "data": {
      "image/png": "[encoded data removed]",
      "text/plain": [
       "<Figure size 864x432 with 2 Axes>"
      ]
     },
     "metadata": {
      "needs_background": "light"
     },
     "output_type": "display_data"
    }
   ],
   "source": [
    "fig, axs = plt.subplots(1,2, figsize=(12,6), sharey = True)\n",
    "colors = ['r','b','g']\n",
    "\n",
    "for i in range(num_actions): \n",
    "    axs[0].plot(range(T),greedy_action_count[:,i]/nsim, c=colors[i], label='action '+str(i))\n",
    "axs[0].set_title('Greedy')\n",
    "axs[0].set_xlabel('time (t)')\n",
    "axs[0].set_ylabel('frequency of action i')\n",
    "axs[0].legend()\n",
    "\n",
    "for i in range(num_actions): \n",
    "    axs[1].plot(range(T),ts_action_count[:,i]/nsim, c=colors[i], label='action '+str(i))\n",
    "axs[1].set_title('Thompson Sampling')\n",
    "axs[1].set_xlabel('time (t)')\n",
    "axs[1].set_ylabel('frequency of action i')\n",
    "axs[1].legend()\n",
    "\n",
    "plt.show()"
   ]
  },
  {
   "cell_type": "markdown",
   "id": "b8475bd4",
   "metadata": {},
   "source": [
    "The agent employing Thompson Sampling outperforms the greedy agent and consistently selects the true optimal action more frequently as time passes. The benefits of exploration are evident, and Thompson Sampling provides one strategy for accomplishing this."
   ]
  },
  {
   "cell_type": "code",
   "execution_count": null,
   "id": "1052b5f6",
   "metadata": {},
   "outputs": [],
   "source": []
  }
 ],
 "metadata": {
  "kernelspec": {
   "display_name": "Python 3 (ipykernel)",
   "language": "python",
   "name": "python3"
  },
  "language_info": {
   "codemirror_mode": {
    "name": "ipython",
    "version": 3
   },
   "file_extension": ".py",
   "mimetype": "text/x-python",
   "name": "python",
   "nbconvert_exporter": "python",
   "pygments_lexer": "ipython3",
   "version": "3.9.7"
  }
 },
 "nbformat": 4,
 "nbformat_minor": 5
}
